{
 "cells": [
  {
   "cell_type": "code",
   "execution_count": 1,
   "metadata": {},
   "outputs": [],
   "source": [
    "import pandas as pd\n",
    "import numpy as np"
   ]
  },
  {
   "cell_type": "code",
   "execution_count": 2,
   "metadata": {},
   "outputs": [],
   "source": [
    "df_so2=pd.read_csv('so2_daily_summary.csv',low_memory=False)\n",
    "df_o3=pd.read_csv('o3_daily_summary.csv',low_memory=False)\n",
    "df_no2=pd.read_csv('no2_daily_summary.csv',low_memory=False)\n",
    "# df_pm25_frm=pd.read_csv('pm25_frm_daily_summary.csv',low_memory=False)\n",
    "# df_pm25_non_frm=pd.read_csv('pm25_nonfrm_daily_summary.csv',low_memory=False)"
   ]
  },
  {
   "cell_type": "code",
   "execution_count": 3,
   "metadata": {},
   "outputs": [
    {
     "name": "stdout",
     "output_type": "stream",
     "text": [
      "2472873\n",
      "2144377\n",
      "1922001\n"
     ]
    }
   ],
   "source": [
    "print(len(df_so2))\n",
    "print(len(df_o3))\n",
    "print(len(df_no2))\n",
    "# print(len(df_pm25_frm))\n",
    "# print(len(df_pm25_non_frm))"
   ]
  },
  {
   "cell_type": "code",
   "execution_count": 4,
   "metadata": {},
   "outputs": [],
   "source": [
    "df_so2['datetime_gmt']=pd.to_datetime(df_so2['date_gmt'] + ' ' + df_so2['time_gmt'])\n",
    "df_o3['datetime_gmt']=pd.to_datetime(df_o3['date_gmt'] + ' ' + df_o3['time_gmt'])\n",
    "df_no2['datetime_gmt']=pd.to_datetime(df_no2['date_gmt'] + ' ' + df_no2['time_gmt'])\n",
    "# df_pm25_frm['datetime_gmt']=pd.to_datetime(df_pm25_frm['date_gmt'] + ' ' + df_pm25_frm['time_gmt'])\n",
    "# df_pm25_non_frm['datetime_gmt']=pd.to_datetime(df_pm25_non_frm['date_gmt'] + ' ' + df_pm25_non_frm['time_gmt'])"
   ]
  },
  {
   "cell_type": "code",
   "execution_count": 5,
   "metadata": {},
   "outputs": [],
   "source": [
    "df_so2['datetime_local']=pd.to_datetime(df_so2['date_local'] + ' ' + df_so2['time_local'])\n",
    "df_o3['datetime_local']=pd.to_datetime(df_o3['date_local'] + ' ' + df_o3['time_local'])\n",
    "df_no2['datetime_local']=pd.to_datetime(df_no2['date_local'] + ' ' + df_no2['time_local'])"
   ]
  },
  {
   "cell_type": "code",
   "execution_count": 6,
   "metadata": {
    "scrolled": true
   },
   "outputs": [],
   "source": [
    "df_so2=df_so2.sort_values(by='datetime_gmt')\n",
    "df_o3=df_o3.sort_values(by='datetime_gmt')\n",
    "df_no2=df_no2.sort_values(by='datetime_gmt')\n",
    "# df_pm25_frm=df_pm25_frm.sort_values(by='datetime_gmt')\n",
    "# df_pm25_non_frm=df_pm25_non_frm.sort_values(by='datetime_gmt')"
   ]
  },
  {
   "cell_type": "code",
   "execution_count": 7,
   "metadata": {},
   "outputs": [
    {
     "name": "stdout",
     "output_type": "stream",
     "text": [
      "1990-01-01\n",
      "1990-01-01\n",
      "1990-01-01\n"
     ]
    }
   ],
   "source": [
    "print(df_so2['date_gmt'].min())\n",
    "print(df_o3['date_gmt'].min())\n",
    "print(df_no2['date_gmt'].min())\n",
    "# print(df_pm25_frm['date_gmt'].min())\n",
    "# print(df_pm25_non_frm['date_gmt'].min())"
   ]
  },
  {
   "cell_type": "code",
   "execution_count": 8,
   "metadata": {},
   "outputs": [
    {
     "name": "stdout",
     "output_type": "stream",
     "text": [
      "2018-01-01\n",
      "2018-01-01\n",
      "2018-01-01\n"
     ]
    }
   ],
   "source": [
    "print(df_so2['date_gmt'].max())\n",
    "print(df_o3['date_gmt'].max())\n",
    "print(df_no2['date_gmt'].max())\n",
    "# print(df_pm25_frm['date_gmt'].max())\n",
    "# print(df_pm25_non_frm['date_gmt'].max())"
   ]
  },
  {
   "cell_type": "code",
   "execution_count": 9,
   "metadata": {
    "scrolled": true
   },
   "outputs": [],
   "source": [
    "common_site_num=list(set(df_so2['site_num'].unique()).intersection(set(df_o3['site_num'].unique())).intersection(set(df_no2['site_num'].unique())))"
   ]
  },
  {
   "cell_type": "code",
   "execution_count": 10,
   "metadata": {},
   "outputs": [],
   "source": [
    "df_so2_common=df_so2[df_so2['site_num'].isin(common_site_num)]\n",
    "\n",
    "df_o3_common=df_o3[df_o3['site_num'].isin(common_site_num)]\n",
    "\n",
    "df_no2_common=df_no2[df_no2['site_num'].isin(common_site_num)]"
   ]
  },
  {
   "cell_type": "code",
   "execution_count": 11,
   "metadata": {},
   "outputs": [
    {
     "name": "stdout",
     "output_type": "stream",
     "text": [
      "1990-01-01\n",
      "1990-01-01\n",
      "1990-01-01\n"
     ]
    }
   ],
   "source": [
    "print(df_so2_common['date_gmt'].min())\n",
    "print(df_o3_common['date_gmt'].min())\n",
    "print(df_no2_common['date_gmt'].min())"
   ]
  },
  {
   "cell_type": "code",
   "execution_count": 12,
   "metadata": {},
   "outputs": [
    {
     "name": "stdout",
     "output_type": "stream",
     "text": [
      "2018-01-01\n",
      "2018-01-01\n",
      "2018-01-01\n"
     ]
    }
   ],
   "source": [
    "print(df_so2_common['date_gmt'].max())\n",
    "print(df_o3_common['date_gmt'].max())\n",
    "print(df_no2_common['date_gmt'].max())"
   ]
  },
  {
   "cell_type": "code",
   "execution_count": 13,
   "metadata": {},
   "outputs": [
    {
     "data": {
      "text/plain": [
       "array(['Parts per billion'], dtype=object)"
      ]
     },
     "execution_count": 13,
     "metadata": {},
     "output_type": "execute_result"
    }
   ],
   "source": [
    "df_so2['units_of_measure'].unique()"
   ]
  },
  {
   "cell_type": "code",
   "execution_count": 14,
   "metadata": {},
   "outputs": [
    {
     "data": {
      "text/plain": [
       "array(['Parts per billion'], dtype=object)"
      ]
     },
     "execution_count": 14,
     "metadata": {},
     "output_type": "execute_result"
    }
   ],
   "source": [
    "df_no2['units_of_measure'].unique()"
   ]
  },
  {
   "cell_type": "code",
   "execution_count": 15,
   "metadata": {},
   "outputs": [
    {
     "data": {
      "text/plain": [
       "array(['Parts per million'], dtype=object)"
      ]
     },
     "execution_count": 15,
     "metadata": {},
     "output_type": "execute_result"
    }
   ],
   "source": [
    "df_o3['units_of_measure'].unique()"
   ]
  },
  {
   "cell_type": "code",
   "execution_count": 16,
   "metadata": {},
   "outputs": [
    {
     "data": {
      "text/plain": [
       "369.0"
      ]
     },
     "execution_count": 16,
     "metadata": {},
     "output_type": "execute_result"
    }
   ],
   "source": [
    "df_so2['sample_measurement'].max()"
   ]
  },
  {
   "cell_type": "code",
   "execution_count": 17,
   "metadata": {},
   "outputs": [
    {
     "data": {
      "text/plain": [
       "0.185"
      ]
     },
     "execution_count": 17,
     "metadata": {},
     "output_type": "execute_result"
    }
   ],
   "source": [
    "df_o3['sample_measurement'].max()"
   ]
  },
  {
   "cell_type": "code",
   "execution_count": 18,
   "metadata": {},
   "outputs": [],
   "source": [
    "df_so2_common=df_so2_common.drop(['parameter_code','poc','latitude','longitude','datum','qualifier','method_type','method_code','method_name','date_of_last_change','parameter_name','units_of_measure'],axis=1)\n",
    "df_o3_common=df_o3_common.drop(['parameter_code','poc','latitude','longitude','datum','qualifier','method_type','method_code','method_name','date_of_last_change','parameter_name','units_of_measure'],axis=1)\n",
    "df_no2_common=df_no2_common.drop(['parameter_code','poc','latitude','longitude','datum','qualifier','method_type','method_code','method_name','date_of_last_change','parameter_name','units_of_measure'],axis=1)"
   ]
  },
  {
   "cell_type": "code",
   "execution_count": 19,
   "metadata": {},
   "outputs": [
    {
     "data": {
      "text/plain": [
       "state_code                     int64\n",
       "county_code                    int64\n",
       "site_num                       int64\n",
       "date_local                    object\n",
       "time_local                    object\n",
       "date_gmt                      object\n",
       "time_gmt                      object\n",
       "sample_measurement           float64\n",
       "mdl                          float64\n",
       "uncertainty                  float64\n",
       "state_name                    object\n",
       "county_name                   object\n",
       "datetime_gmt          datetime64[ns]\n",
       "datetime_local        datetime64[ns]\n",
       "dtype: object"
      ]
     },
     "execution_count": 19,
     "metadata": {},
     "output_type": "execute_result"
    }
   ],
   "source": [
    "df_so2_common.dtypes"
   ]
  },
  {
   "cell_type": "code",
   "execution_count": 20,
   "metadata": {},
   "outputs": [
    {
     "data": {
      "text/html": [
       "<div>\n",
       "<style scoped>\n",
       "    .dataframe tbody tr th:only-of-type {\n",
       "        vertical-align: middle;\n",
       "    }\n",
       "\n",
       "    .dataframe tbody tr th {\n",
       "        vertical-align: top;\n",
       "    }\n",
       "\n",
       "    .dataframe thead th {\n",
       "        text-align: right;\n",
       "    }\n",
       "</style>\n",
       "<table border=\"1\" class=\"dataframe\">\n",
       "  <thead>\n",
       "    <tr style=\"text-align: right;\">\n",
       "      <th></th>\n",
       "      <th>state_code</th>\n",
       "      <th>county_code</th>\n",
       "      <th>site_num</th>\n",
       "      <th>date_local</th>\n",
       "      <th>time_local</th>\n",
       "      <th>date_gmt</th>\n",
       "      <th>time_gmt</th>\n",
       "      <th>sample_measurement</th>\n",
       "      <th>mdl</th>\n",
       "      <th>uncertainty</th>\n",
       "      <th>state_name</th>\n",
       "      <th>county_name</th>\n",
       "      <th>datetime_gmt</th>\n",
       "      <th>datetime_local</th>\n",
       "    </tr>\n",
       "  </thead>\n",
       "  <tbody>\n",
       "    <tr>\n",
       "      <th>1498922</th>\n",
       "      <td>36</td>\n",
       "      <td>5</td>\n",
       "      <td>73</td>\n",
       "      <td>1990-01-01</td>\n",
       "      <td>00:00</td>\n",
       "      <td>1990-01-01</td>\n",
       "      <td>05:00</td>\n",
       "      <td>29.0</td>\n",
       "      <td>2.0</td>\n",
       "      <td>NaN</td>\n",
       "      <td>New York</td>\n",
       "      <td>Bronx</td>\n",
       "      <td>1990-01-01 05:00:00</td>\n",
       "      <td>1990-01-01</td>\n",
       "    </tr>\n",
       "    <tr>\n",
       "      <th>1855640</th>\n",
       "      <td>34</td>\n",
       "      <td>39</td>\n",
       "      <td>3</td>\n",
       "      <td>1990-01-01</td>\n",
       "      <td>00:00</td>\n",
       "      <td>1990-01-01</td>\n",
       "      <td>05:00</td>\n",
       "      <td>14.0</td>\n",
       "      <td>2.0</td>\n",
       "      <td>NaN</td>\n",
       "      <td>New Jersey</td>\n",
       "      <td>Union</td>\n",
       "      <td>1990-01-01 05:00:00</td>\n",
       "      <td>1990-01-01</td>\n",
       "    </tr>\n",
       "    <tr>\n",
       "      <th>1162859</th>\n",
       "      <td>34</td>\n",
       "      <td>3</td>\n",
       "      <td>5001</td>\n",
       "      <td>1990-01-01</td>\n",
       "      <td>00:00</td>\n",
       "      <td>1990-01-01</td>\n",
       "      <td>05:00</td>\n",
       "      <td>4.0</td>\n",
       "      <td>2.0</td>\n",
       "      <td>NaN</td>\n",
       "      <td>New Jersey</td>\n",
       "      <td>Bergen</td>\n",
       "      <td>1990-01-01 05:00:00</td>\n",
       "      <td>1990-01-01</td>\n",
       "    </tr>\n",
       "    <tr>\n",
       "      <th>1146032</th>\n",
       "      <td>34</td>\n",
       "      <td>13</td>\n",
       "      <td>11</td>\n",
       "      <td>1990-01-01</td>\n",
       "      <td>00:00</td>\n",
       "      <td>1990-01-01</td>\n",
       "      <td>05:00</td>\n",
       "      <td>13.0</td>\n",
       "      <td>2.0</td>\n",
       "      <td>NaN</td>\n",
       "      <td>New Jersey</td>\n",
       "      <td>Essex</td>\n",
       "      <td>1990-01-01 05:00:00</td>\n",
       "      <td>1990-01-01</td>\n",
       "    </tr>\n",
       "    <tr>\n",
       "      <th>1515753</th>\n",
       "      <td>34</td>\n",
       "      <td>39</td>\n",
       "      <td>4</td>\n",
       "      <td>1990-01-01</td>\n",
       "      <td>00:00</td>\n",
       "      <td>1990-01-01</td>\n",
       "      <td>05:00</td>\n",
       "      <td>11.0</td>\n",
       "      <td>2.0</td>\n",
       "      <td>NaN</td>\n",
       "      <td>New Jersey</td>\n",
       "      <td>Union</td>\n",
       "      <td>1990-01-01 05:00:00</td>\n",
       "      <td>1990-01-01</td>\n",
       "    </tr>\n",
       "  </tbody>\n",
       "</table>\n",
       "</div>"
      ],
      "text/plain": [
       "         state_code  county_code  site_num  date_local time_local    date_gmt  \\\n",
       "1498922          36            5        73  1990-01-01      00:00  1990-01-01   \n",
       "1855640          34           39         3  1990-01-01      00:00  1990-01-01   \n",
       "1162859          34            3      5001  1990-01-01      00:00  1990-01-01   \n",
       "1146032          34           13        11  1990-01-01      00:00  1990-01-01   \n",
       "1515753          34           39         4  1990-01-01      00:00  1990-01-01   \n",
       "\n",
       "        time_gmt  sample_measurement  mdl  uncertainty  state_name  \\\n",
       "1498922    05:00                29.0  2.0          NaN    New York   \n",
       "1855640    05:00                14.0  2.0          NaN  New Jersey   \n",
       "1162859    05:00                 4.0  2.0          NaN  New Jersey   \n",
       "1146032    05:00                13.0  2.0          NaN  New Jersey   \n",
       "1515753    05:00                11.0  2.0          NaN  New Jersey   \n",
       "\n",
       "        county_name        datetime_gmt datetime_local  \n",
       "1498922       Bronx 1990-01-01 05:00:00     1990-01-01  \n",
       "1855640       Union 1990-01-01 05:00:00     1990-01-01  \n",
       "1162859      Bergen 1990-01-01 05:00:00     1990-01-01  \n",
       "1146032       Essex 1990-01-01 05:00:00     1990-01-01  \n",
       "1515753       Union 1990-01-01 05:00:00     1990-01-01  "
      ]
     },
     "execution_count": 20,
     "metadata": {},
     "output_type": "execute_result"
    }
   ],
   "source": [
    "df_so2_common.head()"
   ]
  },
  {
   "cell_type": "code",
   "execution_count": 21,
   "metadata": {},
   "outputs": [
    {
     "data": {
      "text/plain": [
       "state_code                     int64\n",
       "county_code                    int64\n",
       "site_num                       int64\n",
       "date_local                    object\n",
       "time_local                    object\n",
       "date_gmt                      object\n",
       "time_gmt                      object\n",
       "sample_measurement           float64\n",
       "mdl                          float64\n",
       "uncertainty                  float64\n",
       "state_name                    object\n",
       "county_name                   object\n",
       "datetime_gmt          datetime64[ns]\n",
       "datetime_local        datetime64[ns]\n",
       "dtype: object"
      ]
     },
     "execution_count": 21,
     "metadata": {},
     "output_type": "execute_result"
    }
   ],
   "source": [
    "df_o3_common.dtypes"
   ]
  },
  {
   "cell_type": "code",
   "execution_count": 22,
   "metadata": {},
   "outputs": [
    {
     "data": {
      "text/plain": [
       "state_code                     int64\n",
       "county_code                    int64\n",
       "site_num                       int64\n",
       "date_local                    object\n",
       "time_local                    object\n",
       "date_gmt                      object\n",
       "time_gmt                      object\n",
       "sample_measurement           float64\n",
       "mdl                          float64\n",
       "uncertainty                  float64\n",
       "state_name                    object\n",
       "county_name                   object\n",
       "datetime_gmt          datetime64[ns]\n",
       "datetime_local        datetime64[ns]\n",
       "dtype: object"
      ]
     },
     "execution_count": 22,
     "metadata": {},
     "output_type": "execute_result"
    }
   ],
   "source": [
    "df_no2_common.dtypes"
   ]
  },
  {
   "cell_type": "code",
   "execution_count": 23,
   "metadata": {},
   "outputs": [],
   "source": [
    "common_columns=[]\n",
    "for x in df_no2_common.columns:\n",
    "    if x=='sample_measurement' or 'units_of_measure' or 'mdl' or 'uncertainty':\n",
    "        pass\n",
    "    else:\n",
    "        print(x)\n",
    "        common_columns.append(x)"
   ]
  },
  {
   "cell_type": "code",
   "execution_count": 24,
   "metadata": {},
   "outputs": [],
   "source": [
    "common_columns=[]\n",
    "for x in df_no2_common.columns:\n",
    "    if x=='sample_measurement' or x=='units_of_measure' or x=='mdl' or x=='uncertainty' or x=='parameter_name':\n",
    "        pass\n",
    "    else:\n",
    "#         print(x)\n",
    "        common_columns.append(x)"
   ]
  },
  {
   "cell_type": "code",
   "execution_count": 25,
   "metadata": {},
   "outputs": [
    {
     "data": {
      "text/plain": [
       "['state_code',\n",
       " 'county_code',\n",
       " 'site_num',\n",
       " 'date_local',\n",
       " 'time_local',\n",
       " 'date_gmt',\n",
       " 'time_gmt',\n",
       " 'state_name',\n",
       " 'county_name',\n",
       " 'datetime_gmt',\n",
       " 'datetime_local']"
      ]
     },
     "execution_count": 25,
     "metadata": {},
     "output_type": "execute_result"
    }
   ],
   "source": [
    "common_columns"
   ]
  },
  {
   "cell_type": "code",
   "execution_count": 35,
   "metadata": {},
   "outputs": [],
   "source": [
    "df_temp=pd.merge(left=df_so2_common,right=df_o3_common, how='outer', left_on=common_columns, right_on=common_columns)"
   ]
  },
  {
   "cell_type": "code",
   "execution_count": 36,
   "metadata": {},
   "outputs": [
    {
     "data": {
      "text/html": [
       "<div>\n",
       "<style scoped>\n",
       "    .dataframe tbody tr th:only-of-type {\n",
       "        vertical-align: middle;\n",
       "    }\n",
       "\n",
       "    .dataframe tbody tr th {\n",
       "        vertical-align: top;\n",
       "    }\n",
       "\n",
       "    .dataframe thead th {\n",
       "        text-align: right;\n",
       "    }\n",
       "</style>\n",
       "<table border=\"1\" class=\"dataframe\">\n",
       "  <thead>\n",
       "    <tr style=\"text-align: right;\">\n",
       "      <th></th>\n",
       "      <th>state_code</th>\n",
       "      <th>county_code</th>\n",
       "      <th>site_num</th>\n",
       "      <th>date_local</th>\n",
       "      <th>time_local</th>\n",
       "      <th>date_gmt</th>\n",
       "      <th>time_gmt</th>\n",
       "      <th>SO2</th>\n",
       "      <th>SO2 mdl</th>\n",
       "      <th>SO2 Uncertainty</th>\n",
       "      <th>state_name</th>\n",
       "      <th>county_name</th>\n",
       "      <th>datetime_gmt</th>\n",
       "      <th>datetime_local</th>\n",
       "      <th>O3</th>\n",
       "      <th>O3 mdl</th>\n",
       "      <th>O3 Uncertainty</th>\n",
       "    </tr>\n",
       "  </thead>\n",
       "  <tbody>\n",
       "    <tr>\n",
       "      <th>0</th>\n",
       "      <td>36</td>\n",
       "      <td>5</td>\n",
       "      <td>73</td>\n",
       "      <td>1990-01-01</td>\n",
       "      <td>00:00</td>\n",
       "      <td>1990-01-01</td>\n",
       "      <td>05:00</td>\n",
       "      <td>29.0</td>\n",
       "      <td>2.0</td>\n",
       "      <td>NaN</td>\n",
       "      <td>New York</td>\n",
       "      <td>Bronx</td>\n",
       "      <td>1990-01-01 05:00:00</td>\n",
       "      <td>1990-01-01</td>\n",
       "      <td>NaN</td>\n",
       "      <td>NaN</td>\n",
       "      <td>NaN</td>\n",
       "    </tr>\n",
       "    <tr>\n",
       "      <th>1</th>\n",
       "      <td>34</td>\n",
       "      <td>39</td>\n",
       "      <td>3</td>\n",
       "      <td>1990-01-01</td>\n",
       "      <td>00:00</td>\n",
       "      <td>1990-01-01</td>\n",
       "      <td>05:00</td>\n",
       "      <td>14.0</td>\n",
       "      <td>2.0</td>\n",
       "      <td>NaN</td>\n",
       "      <td>New Jersey</td>\n",
       "      <td>Union</td>\n",
       "      <td>1990-01-01 05:00:00</td>\n",
       "      <td>1990-01-01</td>\n",
       "      <td>NaN</td>\n",
       "      <td>NaN</td>\n",
       "      <td>NaN</td>\n",
       "    </tr>\n",
       "    <tr>\n",
       "      <th>2</th>\n",
       "      <td>34</td>\n",
       "      <td>3</td>\n",
       "      <td>5001</td>\n",
       "      <td>1990-01-01</td>\n",
       "      <td>00:00</td>\n",
       "      <td>1990-01-01</td>\n",
       "      <td>05:00</td>\n",
       "      <td>4.0</td>\n",
       "      <td>2.0</td>\n",
       "      <td>NaN</td>\n",
       "      <td>New Jersey</td>\n",
       "      <td>Bergen</td>\n",
       "      <td>1990-01-01 05:00:00</td>\n",
       "      <td>1990-01-01</td>\n",
       "      <td>NaN</td>\n",
       "      <td>NaN</td>\n",
       "      <td>NaN</td>\n",
       "    </tr>\n",
       "    <tr>\n",
       "      <th>3</th>\n",
       "      <td>34</td>\n",
       "      <td>13</td>\n",
       "      <td>11</td>\n",
       "      <td>1990-01-01</td>\n",
       "      <td>00:00</td>\n",
       "      <td>1990-01-01</td>\n",
       "      <td>05:00</td>\n",
       "      <td>13.0</td>\n",
       "      <td>2.0</td>\n",
       "      <td>NaN</td>\n",
       "      <td>New Jersey</td>\n",
       "      <td>Essex</td>\n",
       "      <td>1990-01-01 05:00:00</td>\n",
       "      <td>1990-01-01</td>\n",
       "      <td>3.0</td>\n",
       "      <td>0.005</td>\n",
       "      <td>NaN</td>\n",
       "    </tr>\n",
       "    <tr>\n",
       "      <th>4</th>\n",
       "      <td>34</td>\n",
       "      <td>39</td>\n",
       "      <td>4</td>\n",
       "      <td>1990-01-01</td>\n",
       "      <td>00:00</td>\n",
       "      <td>1990-01-01</td>\n",
       "      <td>05:00</td>\n",
       "      <td>11.0</td>\n",
       "      <td>2.0</td>\n",
       "      <td>NaN</td>\n",
       "      <td>New Jersey</td>\n",
       "      <td>Union</td>\n",
       "      <td>1990-01-01 05:00:00</td>\n",
       "      <td>1990-01-01</td>\n",
       "      <td>NaN</td>\n",
       "      <td>NaN</td>\n",
       "      <td>NaN</td>\n",
       "    </tr>\n",
       "  </tbody>\n",
       "</table>\n",
       "</div>"
      ],
      "text/plain": [
       "   state_code  county_code  site_num  date_local time_local    date_gmt  \\\n",
       "0          36            5        73  1990-01-01      00:00  1990-01-01   \n",
       "1          34           39         3  1990-01-01      00:00  1990-01-01   \n",
       "2          34            3      5001  1990-01-01      00:00  1990-01-01   \n",
       "3          34           13        11  1990-01-01      00:00  1990-01-01   \n",
       "4          34           39         4  1990-01-01      00:00  1990-01-01   \n",
       "\n",
       "  time_gmt   SO2  SO2 mdl  SO2 Uncertainty  state_name county_name  \\\n",
       "0    05:00  29.0      2.0              NaN    New York       Bronx   \n",
       "1    05:00  14.0      2.0              NaN  New Jersey       Union   \n",
       "2    05:00   4.0      2.0              NaN  New Jersey      Bergen   \n",
       "3    05:00  13.0      2.0              NaN  New Jersey       Essex   \n",
       "4    05:00  11.0      2.0              NaN  New Jersey       Union   \n",
       "\n",
       "         datetime_gmt datetime_local   O3  O3 mdl  O3 Uncertainty  \n",
       "0 1990-01-01 05:00:00     1990-01-01  NaN     NaN             NaN  \n",
       "1 1990-01-01 05:00:00     1990-01-01  NaN     NaN             NaN  \n",
       "2 1990-01-01 05:00:00     1990-01-01  NaN     NaN             NaN  \n",
       "3 1990-01-01 05:00:00     1990-01-01  3.0   0.005             NaN  \n",
       "4 1990-01-01 05:00:00     1990-01-01  NaN     NaN             NaN  "
      ]
     },
     "execution_count": 36,
     "metadata": {},
     "output_type": "execute_result"
    }
   ],
   "source": [
    "df_temp=df_temp.rename(columns={\"sample_measurement_x\": \"SO2\", \"sample_measurement_y\": \"O3\",'mdl_x':'SO2 mdl','mdl_y':'O3 mdl','uncertainty_x':'SO2 Uncertainty','uncertainty_y':'O3 Uncertainty'})\n",
    "df_temp['O3']=df_temp['O3']*1000\n",
    "df_temp.head()"
   ]
  },
  {
   "cell_type": "code",
   "execution_count": 37,
   "metadata": {},
   "outputs": [
    {
     "data": {
      "text/plain": [
       "Index(['state_code', 'county_code', 'site_num', 'date_local', 'time_local',\n",
       "       'date_gmt', 'time_gmt', 'SO2', 'SO2 mdl', 'SO2 Uncertainty',\n",
       "       'state_name', 'county_name', 'datetime_gmt', 'datetime_local', 'O3',\n",
       "       'O3 mdl', 'O3 Uncertainty'],\n",
       "      dtype='object')"
      ]
     },
     "execution_count": 37,
     "metadata": {},
     "output_type": "execute_result"
    }
   ],
   "source": [
    "df_temp.columns"
   ]
  },
  {
   "cell_type": "code",
   "execution_count": 38,
   "metadata": {},
   "outputs": [],
   "source": [
    "df_final=pd.merge(left=df_temp,right=df_no2_common, how='outer', left_on=common_columns, right_on=common_columns)"
   ]
  },
  {
   "cell_type": "code",
   "execution_count": 39,
   "metadata": {},
   "outputs": [
    {
     "data": {
      "text/plain": [
       "Index(['state_code', 'county_code', 'site_num', 'date_local', 'time_local',\n",
       "       'date_gmt', 'time_gmt', 'SO2', 'SO2 mdl', 'SO2 Uncertainty',\n",
       "       'state_name', 'county_name', 'datetime_gmt', 'datetime_local', 'O3',\n",
       "       'O3 mdl', 'O3 Uncertainty', 'NO2', 'NO2 mdl', 'NO2 Uncertainty'],\n",
       "      dtype='object')"
      ]
     },
     "execution_count": 39,
     "metadata": {},
     "output_type": "execute_result"
    }
   ],
   "source": [
    "df_final=df_final.rename(columns={\"sample_measurement\": \"NO2\",'mdl':'NO2 mdl','uncertainty':'NO2 Uncertainty'})\n",
    "df_final.columns"
   ]
  },
  {
   "cell_type": "code",
   "execution_count": 40,
   "metadata": {},
   "outputs": [],
   "source": [
    "df_final['Units of Measurement']='Parts per billion'"
   ]
  },
  {
   "cell_type": "code",
   "execution_count": 43,
   "metadata": {},
   "outputs": [],
   "source": [
    "df_final.to_csv('so2_no2_o3.csv')"
   ]
  },
  {
   "cell_type": "code",
   "execution_count": null,
   "metadata": {},
   "outputs": [],
   "source": []
  }
 ],
 "metadata": {
  "kernelspec": {
   "display_name": "Python 3",
   "language": "python",
   "name": "python3"
  },
  "language_info": {
   "codemirror_mode": {
    "name": "ipython",
    "version": 3
   },
   "file_extension": ".py",
   "mimetype": "text/x-python",
   "name": "python",
   "nbconvert_exporter": "python",
   "pygments_lexer": "ipython3",
   "version": "3.7.3"
  }
 },
 "nbformat": 4,
 "nbformat_minor": 2
}
